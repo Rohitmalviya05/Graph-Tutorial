{
 "cells": [
  {
   "cell_type": "markdown",
   "id": "e7fda437",
   "metadata": {},
   "source": [
    "# Graph Related Questions\n"
   ]
  },
  {
   "cell_type": "markdown",
   "id": "d848a5b2",
   "metadata": {},
   "source": [
    "### 1. Write a code to find the degree of each vertex, and store it in a dictionary. Sort the keys of the dictionary by the degree stored in the values."
   ]
  },
  {
   "cell_type": "markdown",
   "id": "a06a5241",
   "metadata": {},
   "source": [
    "### Question 1\n",
    "\n",
    "**Explanation:**\n",
    "## 1. Degree of Each Vertex (Adjacency List)\n",
    "### Quick Explanation:\n",
    "- A graph is stored as an adjacency list (dictionary).\n",
    "- *Degree* = number of connections (neighbors) a vertex has.\n",
    "- Loop through each vertex, count its neighbors.\n",
    "- Store results in a dictionary.\n",
    "- Sort the dictionary by degree values.\n"
   ]
  },
  {
   "cell_type": "code",
   "execution_count": 13,
   "id": "e1dec923",
   "metadata": {},
   "outputs": [
    {
     "name": "stdout",
     "output_type": "stream",
     "text": [
      "Degrees of vertices: {'A': 2, 'B': 2, 'C': 2, 'D': 2}\n",
      "Sorted by degree: {'A': 2, 'B': 2, 'C': 2, 'D': 2}\n"
     ]
    }
   ],
   "source": [
    "# Using an adjacency list representation\n",
    "# Process logic\n",
    "graph = {\n",
    "# Process logic\n",
    "    'A': ['B', 'C'],\n",
    "# Process logic\n",
    "    'B': ['A', 'D'],\n",
    "# Process logic\n",
    "    'C': ['A', 'D'],\n",
    "# Process logic\n",
    "    'D': ['B', 'C']\n",
    "# Process logic\n",
    "}\n",
    "\n",
    "# Calculate degree of each vertex\n",
    "# Process logic\n",
    "degrees = {}\n",
    "# Loop through elements\n",
    "for vertex in graph:\n",
    "# Process logic\n",
    "    degrees[vertex] = len(graph[vertex])\n",
    "\n",
    "# Sort the dictionary by degree\n",
    "# Process logic\n",
    "sorted_degrees = dict(sorted(degrees.items(), key=lambda item: item[1]))\n",
    "\n",
    "# Process logic\n",
    "print(\"Degrees of vertices:\", degrees)\n",
    "# Process logic\n",
    "print(\"Sorted by degree:\", sorted_degrees)\n",
    "\n",
    "\n",
    "# Sample Test Case\n",
    "# Uncomment the line below to test\n",
    "# print(YourFunctionNameHere(your_test_input))"
   ]
  },
  {
   "cell_type": "markdown",
   "id": "214dff1f",
   "metadata": {},
   "source": [
    "### 2. Write a code to inter-convert the 3 graph representations we have learnt."
   ]
  },
  {
   "cell_type": "markdown",
   "id": "5175d18a",
   "metadata": {},
   "source": [
    "### Question 2\n",
    "\n",
    "This section covers converting between different graph representations: **Adjacency Matrix**, **Adjacency List**, and **Edge List**. All conversions assume **undirected graphs**.\n",
    "\n",
    "### 1. Adjacency Matrix ➝ Adjacency List\n",
    "\n",
    "**Problem:** Convert a graph from an adjacency matrix to an adjacency list.\n",
    "\n",
    "**Logic:**\n",
    "- Loop through the matrix.\n",
    "- For each `1` at `matrix[i][j]`, add `j` to `i`'s neighbor list.\n",
    "\n",
    "### 2. Adjacency Matrix ➝ Edge List\n",
    "\n",
    "**Problem:** Convert an adjacency matrix to an edge list.\n",
    "\n",
    "**Logic:**\n",
    "- Loop through the upper triangle of the matrix.\n",
    "- Add edge `(i, j)` if `matrix[i][j] == 1`.\n",
    "### 3. Adjacency List ➝ Adjacency Matrix\n",
    "\n",
    "**Problem:** Convert an adjacency list to an adjacency matrix.\n",
    "\n",
    "**Logic:**\n",
    "- Create a 2D matrix initialized with zeros.\n",
    "- For each node and its neighbors, set `matrix[u][v] = 1`.\n",
    "### 4. Adjacency List ➝ Edge List\n",
    "\n",
    "**Problem:** Convert an adjacency list to an edge list.\n",
    "\n",
    "**Logic:**\n",
    "- For each edge `(u, v)`, add it only if `(v, u)` hasn't been added already.\n",
    "- Use a `set` to avoid duplicate edges in undirected graphs.\n",
    "### 5. Edge List ➝ Adjacency List\n",
    "\n",
    "**Problem:** Convert an edge list to an adjacency list.\n",
    "\n",
    "**Logic:**\n",
    "- Create an empty list for each vertex.\n",
    "- For each `(u, v)`, add `v` to `u` and `u` to `v`.\n",
    "### 6. Edge List ➝ Adjacency Matrix\n",
    "\n",
    "**Problem:** Convert an edge list to an adjacency matrix.\n",
    "\n",
    "**Logic:**\n",
    "- Create a square matrix of zeros.\n",
    "- For each edge `(u, v)`, set `matrix[u][v] = matrix[v][u] = 1`."
   ]
  },
  {
   "cell_type": "code",
   "execution_count": 14,
   "id": "f9e6883c",
   "metadata": {},
   "outputs": [
    {
     "name": "stdout",
     "output_type": "stream",
     "text": [
      "AdjM ➝ AdjL: {0: [1, 2], 1: [0], 2: [0]}\n",
      "AdjM ➝ EdgeL: [(0, 1), (0, 2)]\n",
      "AdjL ➝ AdjM: [[0, 1, 1], [1, 0, 0], [1, 0, 0]]\n",
      "AdjL ➝ EdgeL: [(0, 1), (0, 2)]\n",
      "EdgeL ➝ AdjL: {0: [1, 2], 1: [0], 2: [0]}\n",
      "EdgeL ➝ AdjM: [[0, 1, 1], [1, 0, 0], [1, 0, 0]]\n"
     ]
    }
   ],
   "source": [
    "# 1. Adjacency Matrix to Adjacency List\n",
    "def adj_matrix_to_adj_list(matrix):\n",
    "    adj_list = {}\n",
    "    for i in range(len(matrix)):\n",
    "        adj_list[i] = []\n",
    "        for j in range(len(matrix[i])):\n",
    "            if matrix[i][j] == 1:\n",
    "                adj_list[i].append(j)\n",
    "    return adj_list\n",
    "\n",
    "# Test case\n",
    "adj_matrix = [\n",
    "    [0, 1, 1],\n",
    "    [1, 0, 0],\n",
    "    [1, 0, 0]\n",
    "]\n",
    "print(\"AdjM ➝ AdjL:\", adj_matrix_to_adj_list(adj_matrix))\n",
    "\n",
    "\n",
    "# 2. Adjacency Matrix to Edge List\n",
    "def adj_matrix_to_edge_list(matrix):\n",
    "    edges = []\n",
    "    for i in range(len(matrix)):\n",
    "        for j in range(i, len(matrix[i])):\n",
    "            if matrix[i][j] == 1:\n",
    "                edges.append((i, j))\n",
    "    return edges\n",
    "\n",
    "# Test case\n",
    "print(\"AdjM ➝ EdgeL:\", adj_matrix_to_edge_list(adj_matrix))\n",
    "\n",
    "\n",
    "# 3. Adjacency List to Adjacency Matrix\n",
    "def adj_list_to_adj_matrix(adj_list):\n",
    "    size = len(adj_list)\n",
    "    matrix = [[0]*size for _ in range(size)]\n",
    "    for node, neighbors in adj_list.items():\n",
    "        for neighbor in neighbors:\n",
    "            matrix[node][neighbor] = 1\n",
    "    return matrix\n",
    "\n",
    "# Test case\n",
    "adj_list = {\n",
    "    0: [1, 2],\n",
    "    1: [0],\n",
    "    2: [0]\n",
    "}\n",
    "print(\"AdjL ➝ AdjM:\", adj_list_to_adj_matrix(adj_list))\n",
    "\n",
    "\n",
    "# 4. Adjacency List to Edge List\n",
    "def adj_list_to_edge_list(adj_list):\n",
    "    edges = set()\n",
    "    for u in adj_list:\n",
    "        for v in adj_list[u]:\n",
    "            if (v, u) not in edges:\n",
    "                edges.add((u, v))\n",
    "    return list(edges)\n",
    "\n",
    "# Test case\n",
    "print(\"AdjL ➝ EdgeL:\", adj_list_to_edge_list(adj_list))\n",
    "\n",
    "\n",
    "# 5. Edge List to Adjacency List\n",
    "def edge_list_to_adj_list(edge_list, n):\n",
    "    adj_list = {i: [] for i in range(n)}\n",
    "    for u, v in edge_list:\n",
    "        adj_list[u].append(v)\n",
    "        adj_list[v].append(u)  # Assuming undirected\n",
    "    return adj_list\n",
    "\n",
    "# Test case\n",
    "edge_list = [(0, 1), (0, 2)]\n",
    "print(\"EdgeL ➝ AdjL:\", edge_list_to_adj_list(edge_list, 3))\n",
    "\n",
    "\n",
    "# 6. Edge List to Adjacency Matrix\n",
    "def edge_list_to_adj_matrix(edge_list, n):\n",
    "    matrix = [[0]*n for _ in range(n)]\n",
    "    for u, v in edge_list:\n",
    "        matrix[u][v] = 1\n",
    "        matrix[v][u] = 1  # Assuming undirected\n",
    "    return matrix\n",
    "\n",
    "# Test case\n",
    "print(\"EdgeL ➝ AdjM:\", edge_list_to_adj_matrix(edge_list, 3))\n"
   ]
  },
  {
   "cell_type": "markdown",
   "id": "fd9da097",
   "metadata": {},
   "source": [
    "### 3. Given a graph and two vertices, check if they are adjacent."
   ]
  },
  {
   "cell_type": "markdown",
   "id": "3acbb66f",
   "metadata": {},
   "source": [
    "### Question 3\n",
    "## Check Adjacency Between Two Vertices\n",
    "### Problem:\n",
    "Given a graph (as an adjacency list) and two vertices `v1` and `v2`, check if they are adjacent (i.e., directly connected by an edge).\n",
    "### Quick Explanation:\n",
    "- Use `g.get(v1, [])` to safely get the neighbors of `v1`.\n",
    "- Check if `v2` exists in that list.\n",
    "- Returns `True` if connected, otherwise `False`.\n",
    "### Example:\n",
    "If `A` is connected to `B`, then `are_adjacent(graph, 'A', 'B')` returns `True`.\n"
   ]
  },
  {
   "cell_type": "code",
   "execution_count": 15,
   "id": "d72b21e0",
   "metadata": {},
   "outputs": [
    {
     "name": "stdout",
     "output_type": "stream",
     "text": [
      "Are A and B adjacent? True\n"
     ]
    }
   ],
   "source": [
    "# Define the main function\n",
    "def are_adjacent(g, v1, v2):\n",
    "# Return the result\n",
    "    return v2 in g.get(v1, [])\n",
    "\n",
    "# Process logic\n",
    "print(\"Are A and B adjacent?\", are_adjacent(graph, 'A', 'B'))\n",
    "\n",
    "\n",
    "# Sample Test Case\n",
    "# Uncomment the line below to test\n",
    "# print(YourFunctionNameHere(your_test_input))"
   ]
  },
  {
   "cell_type": "markdown",
   "id": "b0e8382c",
   "metadata": {},
   "source": [
    "### 4. Check if a graph is complete"
   ]
  },
  {
   "cell_type": "markdown",
   "id": "9e0d57bc",
   "metadata": {},
   "source": [
    "### Question 4\n",
    "\n",
    "**Explanation:**\n",
    "\n",
    "### Quick Explanation:\n",
    "- A **complete graph** has an edge between every pair of distinct vertices.\n",
    "- For a graph with `n` vertices, each vertex should have exactly `n - 1` neighbors.\n",
    "- Loop through each vertex and check if the length of its adjacency list is `n - 1`.\n",
    "\n",
    "### Result:\n",
    "- Returns `True` if complete, else `False`.\n",
    "\n",
    "### Example:\n",
    "If every node is connected to all others, the graph is complete.\n",
    "\n"
   ]
  },
  {
   "cell_type": "code",
   "execution_count": 16,
   "id": "ae306b31",
   "metadata": {},
   "outputs": [
    {
     "name": "stdout",
     "output_type": "stream",
     "text": [
      "Is the graph complete? False\n"
     ]
    }
   ],
   "source": [
    "# Define the main function\n",
    "def is_complete(g):\n",
    "# Process logic\n",
    "    n = len(g)\n",
    "# Loop through elements\n",
    "    for v in g:\n",
    "# Process logic\n",
    "        if len(g[v]) != n - 1:\n",
    "# Return the result\n",
    "            return False\n",
    "# Return the result\n",
    "    return True\n",
    "\n",
    "# Process logic\n",
    "print(\"Is the graph complete?\", is_complete(graph))\n",
    "\n",
    "\n",
    "# Sample Test Case\n",
    "# Uncomment the line below to test\n",
    "# print(YourFunctionNameHere(your_test_input))"
   ]
  },
  {
   "cell_type": "markdown",
   "id": "6810cfa0",
   "metadata": {},
   "source": [
    "### 5. Check if a graph is connected"
   ]
  },
  {
   "cell_type": "markdown",
   "id": "6bdfdf2f",
   "metadata": {},
   "source": [
    "## Check if a Graph is Connected\n",
    "### Quick Explanation:\n",
    "- A graph is **connected** if there is a path between any two vertices.\n",
    "- Start from any vertex and perform DFS to visit reachable nodes.\n",
    "- If all vertices are visited, the graph is connected.\n",
    "### Logic:\n",
    "- Use a `visited` set to track nodes.\n",
    "- Start DFS from the first vertex.\n",
    "- After traversal, compare the number of visited nodes with the total number of vertices.\n",
    "### Result:\n",
    "- Returns `True` if all nodes are reachable, else `False`.\n",
    "### Note:\n",
    "This method works for **undirected** graphs.\n"
   ]
  },
  {
   "cell_type": "code",
   "execution_count": 17,
   "id": "c60a1331",
   "metadata": {},
   "outputs": [
    {
     "name": "stdout",
     "output_type": "stream",
     "text": [
      "Is the graph connected? True\n"
     ]
    }
   ],
   "source": [
    "# Define the main function\n",
    "def is_connected(g):\n",
    "# Process logic\n",
    "    visited = set()\n",
    "# Define the main function\n",
    "    def dfs(v):\n",
    "# Process logic\n",
    "        visited.add(v)\n",
    "# Loop through elements\n",
    "        for neighbor in g[v]:\n",
    "# Process logic\n",
    "            if neighbor not in visited:\n",
    "# Process logic\n",
    "                dfs(neighbor)\n",
    "# Process logic\n",
    "    start = next(iter(g))\n",
    "# Process logic\n",
    "    dfs(start)\n",
    "# Return the result\n",
    "    return len(visited) == len(g)\n",
    "\n",
    "# Process logic\n",
    "print(\"Is the graph connected?\", is_connected(graph))\n",
    "\n",
    "\n",
    "# Sample Test Case\n",
    "# Uncomment the line below to test\n",
    "# print(YourFunctionNameHere(your_test_input))"
   ]
  },
  {
   "cell_type": "markdown",
   "id": "3b2e0e92",
   "metadata": {},
   "source": [
    "### 6. Given a graph and a list of vertices, check if it forms a walk, or a trail or a path or none of these."
   ]
  },
  {
   "cell_type": "markdown",
   "id": "d605078d",
   "metadata": {},
   "source": [
    "### Quick Explanation:\n",
    "- A **Walk** is any sequence of vertices where consecutive vertices are adjacent.\n",
    "- A **Trail** is a walk where no edge is repeated.\n",
    "- A **Path** is a trail where no vertex is repeated.\n",
    "\n",
    "### Logic:\n",
    "- Start by checking if each consecutive pair of vertices are connected.\n",
    "- Track edges using a set to detect repeats.\n",
    "- Classify based on:\n",
    "  - **Walk**: All vertices are adjacent.\n",
    "  - **Trail**: No repeated edges.\n",
    "  - **Path**: No repeated vertices.\n",
    "### Result:\n",
    "- Returns **\"Walk\"**, **\"Trail\"**, or **\"Path\"** based on the classification.\n",
    "### Example:\n",
    "The sequence `['A', 'B', 'D', 'C']` might be classified as a **Trail** or **Path** depending on the graph structure.\n"
   ]
  },
  {
   "cell_type": "code",
   "execution_count": 18,
   "id": "9abdf41a",
   "metadata": {},
   "outputs": [
    {
     "name": "stdout",
     "output_type": "stream",
     "text": [
      "Classification: Path\n"
     ]
    }
   ],
   "source": [
    "# Define the main function\n",
    "def classify_walk(g, vertices):\n",
    "# Process logic\n",
    "    edges = set()\n",
    "# Loop through elements\n",
    "    for i in range(len(vertices) - 1):\n",
    "# Process logic\n",
    "        u, v = vertices[i], vertices[i+1]\n",
    "# Process logic\n",
    "        if v not in g.get(u, []):\n",
    "# Return the result\n",
    "            return \"Not a walk\"\n",
    "# Process logic\n",
    "        edge = tuple(sorted((u, v)))\n",
    "# Process logic\n",
    "        if edge in edges:\n",
    "# Process logic\n",
    "            continue\n",
    "# Process logic\n",
    "        edges.add(edge)\n",
    "# Process logic\n",
    "    if len(edges) == len(vertices) - 1:\n",
    "# Process logic\n",
    "        if len(set(vertices)) == len(vertices):\n",
    "# Return the result\n",
    "            return \"Path\"\n",
    "# Return the result\n",
    "        return \"Trail\"\n",
    "# Return the result\n",
    "    return \"Walk\"\n",
    "\n",
    "# Process logic\n",
    "print(\"Classification:\", classify_walk(graph, ['A', 'B', 'D', 'C']))\n",
    "\n",
    "\n",
    "# Sample Test Case\n",
    "# Uncomment the line below to test\n",
    "# print(YourFunctionNameHere(your_test_input))"
   ]
  },
  {
   "cell_type": "markdown",
   "id": "33f7ae19",
   "metadata": {},
   "source": [
    "### 7. Check if a graph is a tree"
   ]
  },
  {
   "cell_type": "markdown",
   "id": "4b165ff7",
   "metadata": {},
   "source": [
    "### Quick Explanation:\n",
    "- A **tree** is a connected graph with no cycles.\n",
    "- It must satisfy two conditions:\n",
    "  1. **Connected**: There is a path between every pair of vertices.\n",
    "  2. **Acyclic**: There are no cycles (no back edges).\n",
    "\n",
    "### Logic:\n",
    "- Use **DFS** (Depth-First Search) to check for cycles while traversing the graph:\n",
    "  - Track visited vertices.\n",
    "  - If a vertex is visited and it's not the parent of the current vertex, it's a cycle.\n",
    "- If DFS completes without finding a cycle, check if all vertices were visited (i.e., the graph is connected).\n",
    "### Result:\n",
    "- Returns `True` if the graph is a tree, otherwise `False`.\n",
    "### Example:\n",
    "A connected, acyclic graph with `n` vertices and `n-1` edges is a tree.\n"
   ]
  },
  {
   "cell_type": "code",
   "execution_count": 19,
   "id": "d23955c7",
   "metadata": {},
   "outputs": [
    {
     "name": "stdout",
     "output_type": "stream",
     "text": [
      "Is the graph a tree? False\n"
     ]
    }
   ],
   "source": [
    "# Define the main function\n",
    "def is_tree(g):\n",
    "# Process logic\n",
    "    visited = set()\n",
    "# Define the main function\n",
    "    def dfs(v, parent):\n",
    "# Process logic\n",
    "        visited.add(v)\n",
    "# Loop through elements\n",
    "        for neighbor in g[v]:\n",
    "# Process logic\n",
    "            if neighbor not in visited:\n",
    "# Process logic\n",
    "                if not dfs(neighbor, v):\n",
    "# Return the result\n",
    "                    return False\n",
    "# Process logic\n",
    "            elif neighbor != parent:\n",
    "# Return the result\n",
    "                return False\n",
    "# Return the result\n",
    "        return True\n",
    "# Process logic\n",
    "    start = next(iter(g))\n",
    "# Return the result\n",
    "    return dfs(start, None) and len(visited) == len(g)\n",
    "\n",
    "# Process logic\n",
    "print(\"Is the graph a tree?\", is_tree(graph))\n",
    "\n",
    "\n",
    "# Sample Test Case\n",
    "# Uncomment the line below to test\n",
    "# print(YourFunctionNameHere(your_test_input))"
   ]
  },
  {
   "cell_type": "markdown",
   "id": "3aa3bd31",
   "metadata": {},
   "source": [
    "### 8. Given a connected cyclic graph, find its spanning tree."
   ]
  },
  {
   "cell_type": "markdown",
   "id": "5a3dcab3",
   "metadata": {},
   "source": [
    "\n",
    "### Quick Explanation:\n",
    "- A **spanning tree** is a subgraph that connects all vertices with no cycles, using exactly `n-1` edges for `n` vertices.\n",
    "- The idea is to start from any vertex, traverse the graph (using DFS), and record the edges that connect each vertex to its neighbor.\n",
    "\n",
    "### Logic:\n",
    "- Use **DFS** (Depth-First Search) to explore all vertices.\n",
    "- For each visited vertex, record its neighbors in the tree.\n",
    "- The result will be a tree where all vertices are connected, and no cycles exist.\n",
    "\n",
    "### Result:\n",
    "- Returns a dictionary representing the spanning tree, where keys are vertices and values are lists of neighbors.\n",
    "\n",
    "### Example:\n",
    "A DFS traversal will produce a spanning tree starting from any vertex.\n"
   ]
  },
  {
   "cell_type": "code",
   "execution_count": 20,
   "id": "5aca60b1",
   "metadata": {},
   "outputs": [
    {
     "name": "stdout",
     "output_type": "stream",
     "text": [
      "Spanning Tree: {'A': ['B'], 'B': ['D'], 'D': ['C'], 'C': []}\n"
     ]
    }
   ],
   "source": [
    "# Define the main function\n",
    "def spanning_tree(g):\n",
    "# Process logic\n",
    "    visited = set()\n",
    "# Process logic\n",
    "    tree = {}\n",
    "# Define the main function\n",
    "    def dfs(v):\n",
    "# Process logic\n",
    "        visited.add(v)\n",
    "# Process logic\n",
    "        tree[v] = []\n",
    "# Loop through elements\n",
    "        for neighbor in g[v]:\n",
    "# Process logic\n",
    "            if neighbor not in visited:\n",
    "# Process logic\n",
    "                tree[v].append(neighbor)\n",
    "# Process logic\n",
    "                dfs(neighbor)\n",
    "# Process logic\n",
    "    start = next(iter(g))\n",
    "# Process logic\n",
    "    dfs(start)\n",
    "# Return the result\n",
    "    return tree\n",
    "\n",
    "# Process logic\n",
    "print(\"Spanning Tree:\", spanning_tree(graph))\n",
    "\n",
    "\n",
    "# Sample Test Case\n",
    "# Uncomment the line below to test\n",
    "# print(YourFunctionNameHere(your_test_input))"
   ]
  },
  {
   "cell_type": "markdown",
   "id": "d3f71b93",
   "metadata": {},
   "source": [
    "### 9. Given a tree, find the number of leaf nodes."
   ]
  },
  {
   "cell_type": "markdown",
   "id": "402f75ed",
   "metadata": {},
   "source": [
    "\n",
    "### Quick Explanation:\n",
    "- A **leaf node** is a vertex that has exactly one neighbor.\n",
    "- The task is to count how many vertices have only one connection in the graph.\n",
    "\n",
    "### Logic:\n",
    "- Loop through each vertex in the graph.\n",
    "- For each vertex, check if the length of its neighbor list is 1.\n",
    "- Count how many such vertices exist\n",
    "\n"
   ]
  },
  {
   "cell_type": "code",
   "execution_count": 21,
   "id": "cdb6a6af",
   "metadata": {},
   "outputs": [
    {
     "name": "stdout",
     "output_type": "stream",
     "text": [
      "Leaf nodes: 0\n"
     ]
    }
   ],
   "source": [
    "# Define the main function\n",
    "def count_leaf_nodes(g):\n",
    "# Return the result\n",
    "    return sum(1 for v in g if len(g[v]) == 1)\n",
    "\n",
    "# Process logic\n",
    "print(\"Leaf nodes:\", count_leaf_nodes(graph))\n",
    "\n",
    "\n",
    "# Sample Test Case\n",
    "# Uncomment the line below to test\n",
    "# print(YourFunctionNameHere(your_test_input))"
   ]
  },
  {
   "cell_type": "markdown",
   "id": "5823c872",
   "metadata": {},
   "source": [
    "### 10. Given a tree, check if it's a binary tree.\n"
   ]
  },
  {
   "cell_type": "markdown",
   "id": "dcd4d3fd",
   "metadata": {},
   "source": [
    "\n",
    "### Quick Explanation:\n",
    "- A **binary tree** is a tree where each node has at most two children (i.e., its degree is at most 2).\n",
    "- We check if every vertex in the graph has no more than two neighbors.\n",
    "\n",
    "### Logic:\n",
    "- Loop through each vertex in the graph.\n",
    "- Ensure that each vertex has at most 2 neighbors.\n",
    "- If any vertex has more than 2 neighbors, the graph is not a binary tree.\n"
   ]
  },
  {
   "cell_type": "code",
   "execution_count": 22,
   "id": "05e514e2",
   "metadata": {},
   "outputs": [
    {
     "name": "stdout",
     "output_type": "stream",
     "text": [
      "Is binary tree? True\n"
     ]
    }
   ],
   "source": [
    "# Define the main function\n",
    "def is_binary_tree(g):\n",
    "# Return the result\n",
    "    return all(len(g[v]) <= 2 for v in g)\n",
    "\n",
    "# Process logic\n",
    "print(\"Is binary tree?\", is_binary_tree(graph))\n",
    "\n",
    "\n",
    "# Sample Test Case\n",
    "# Uncomment the line below to test\n",
    "# print(YourFunctionNameHere(your_test_input))"
   ]
  },
  {
   "cell_type": "markdown",
   "id": "cb03c142",
   "metadata": {},
   "source": [
    "### 11. Given a tree, find its height.\n"
   ]
  },
  {
   "cell_type": "markdown",
   "id": "7a40deae",
   "metadata": {},
   "source": [
    "\n",
    "### Quick Explanation:\n",
    "- The **height** of a tree is the length of the longest path from the root to any leaf.\n",
    "- We can calculate the height using **DFS** (Depth-First Search), recursively finding the maximum depth from the root.\n",
    "\n",
    "### Logic:\n",
    "- Start DFS from the root.\n",
    "- For each node, recursively calculate the height of its children and take the maximum.\n",
    "- Add `1` to account for the current node.\n",
    "\n"
   ]
  },
  {
   "cell_type": "code",
   "execution_count": 24,
   "id": "24039cdb",
   "metadata": {},
   "outputs": [
    {
     "name": "stdout",
     "output_type": "stream",
     "text": [
      "Tree Height from root 'A': 4\n"
     ]
    }
   ],
   "source": [
    "import networkx as nx\n",
    "\n",
    "def tree_height(g, root):\n",
    "    visited = set()\n",
    "\n",
    "    def dfs(node, parent):\n",
    "        visited.add(node)\n",
    "        # Explore all neighbors except the parent to avoid going back up\n",
    "        return 1 + max((dfs(neigh, node) for neigh in g[node] if neigh != parent), default=0)\n",
    "\n",
    "    return dfs(root, None)\n",
    "\n",
    "# Sample Test Case\n",
    "# Create a small tree graph\n",
    "test_tree = nx.Graph()\n",
    "test_tree.add_edges_from([\n",
    "    (\"A\", \"B\"),\n",
    "    (\"A\", \"C\"),\n",
    "    (\"B\", \"D\"),\n",
    "    (\"D\", \"E\")\n",
    "])\n",
    "\n",
    "# Calculate height from root 'A'\n",
    "height = tree_height(test_tree.adj, \"A\")\n",
    "print(f\"Tree Height from root 'A': {height}\")\n"
   ]
  },
  {
   "cell_type": "markdown",
   "id": "28285baa",
   "metadata": {},
   "source": [
    "### 12. Given a tree, find its depth.\n"
   ]
  },
  {
   "cell_type": "markdown",
   "id": "f8ba215f",
   "metadata": {},
   "source": [
    "### Quick Explanation:\n",
    "- The **depth** of a node is defined as the number of edges on the path from the root node to the node itself.\n",
    "- This can be computed using **DFS** (Depth-First Search), starting from the root and traversing the graph.\n",
    "\n",
    "### Logic:\n",
    "- Use DFS to explore the graph.\n",
    "- Keep track of the depth of each node in a dictionary, where the key is the node and the value is its depth.\n",
    "- For each node, the depth is the parent's depth + 1.\n",
    "\n",
    "### Result:\n",
    "- Returns a dictionary of node depths from the root node.\n"
   ]
  },
  {
   "cell_type": "code",
   "execution_count": null,
   "id": "1b18d04e",
   "metadata": {},
   "outputs": [
    {
     "name": "stdout",
     "output_type": "stream",
     "text": [
      "Node Depths from root 'A':\n",
      "A: 0\n",
      "B: 1\n",
      "D: 2\n",
      "C: 1\n",
      "E: 2\n",
      "F: 3\n"
     ]
    }
   ],
   "source": [
    "\n",
    "def node_depths(g, root):\n",
    "\n",
    "    depths = {}         # To store depth of each node\n",
    "    visited = set()     # To avoid revisiting nodes and prevent infinite loops\n",
    "\n",
    "    def dfs(v, d):\n",
    "        visited.add(v)\n",
    "        depths[v] = d\n",
    "        for neighbor in g[v]:\n",
    "            if neighbor not in visited:\n",
    "                dfs(neighbor, d + 1)\n",
    "\n",
    "    dfs(root, 0)\n",
    "    return depths\n",
    "\n",
    "\n",
    "# Sample Test Case\n",
    "# Constructing a small graph to test\n",
    "test_graph = nx.Graph()\n",
    "test_graph.add_edges_from([\n",
    "    (\"A\", \"B\"),\n",
    "    (\"A\", \"C\"),\n",
    "    (\"B\", \"D\"),\n",
    "    (\"C\", \"E\"),\n",
    "    (\"E\", \"F\"),\n",
    "])\n",
    "\n",
    "# Run the function and print results\n",
    "depth_result = node_depths(test_graph.adj, \"A\")\n",
    "print(\"Node Depths from root 'A':\")\n",
    "for node, depth in depth_result.items():\n",
    "    print(f\"{node}: {depth}\")\n"
   ]
  }
 ],
 "metadata": {
  "kernelspec": {
   "display_name": "Python 3",
   "language": "python",
   "name": "python3"
  },
  "language_info": {
   "codemirror_mode": {
    "name": "ipython",
    "version": 3
   },
   "file_extension": ".py",
   "mimetype": "text/x-python",
   "name": "python",
   "nbconvert_exporter": "python",
   "pygments_lexer": "ipython3",
   "version": "3.12.5"
  }
 },
 "nbformat": 4,
 "nbformat_minor": 5
}
